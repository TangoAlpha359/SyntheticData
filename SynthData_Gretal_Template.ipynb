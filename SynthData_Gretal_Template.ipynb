{
  "cells": [
    {
      "cell_type": "markdown",
      "source": [
        "## Prep and Input API Key"
      ],
      "metadata": {
        "id": "REXJfNSuBY39"
      }
    },
    {
      "cell_type": "code",
      "execution_count": null,
      "metadata": {
        "id": "VEM6kjRsczHd"
      },
      "outputs": [],
      "source": [
        "%%capture\n",
        "!pip install -U gretel-client\n",
        "!pip install fileupload\n",
        "! pip jupyter labextension install @jupyter-widgets/jupyterlab-manager\n"
      ]
    },
    {
      "cell_type": "code",
      "execution_count": null,
      "metadata": {
        "id": "ZQ-TmAdwczHd"
      },
      "outputs": [],
      "source": [
        "# Specify your Gretel API key. Sign up for free here https://gretel.ai/\n",
        "\n",
        "import pandas as pd\n",
        "from gretel_client import configure_session\n",
        "\n",
        "pd.set_option(\"max_colwidth\", None)\n",
        "configure_session(api_key=\"prompt\", cache=\"yes\", validate=True)\n"
      ]
    },
    {
      "cell_type": "code",
      "execution_count": null,
      "metadata": {
        "id": "fmHDICI1oPS5"
      },
      "outputs": [],
      "source": [
        "# Create a project\n",
        "\n",
        "from gretel_client.projects import create_or_get_unique_project\n",
        "project = create_or_get_unique_project(name=\"synthetic-data\")\n"
      ]
    },
    {
      "cell_type": "markdown",
      "metadata": {
        "id": "4PD5B0U06ALs"
      },
      "source": [
        "## Create the synthetic data configuration"
      ]
    },
    {
      "cell_type": "code",
      "execution_count": null,
      "metadata": {
        "id": "uIu3hkzoCzGz"
      },
      "outputs": [],
      "source": [
        "import json\n",
        "\n",
        "from gretel_client.projects.models import read_model_config\n",
        "\n",
        "config = read_model_config(\"synthetics/default\")\n",
        "\n",
        "# Set the model parameters, 50 epochs is recommended.\n",
        "config[\"models\"][0][\"synthetics\"][\"params\"][\"epochs\"] = 50\n",
        "\n",
        "#Uncomment line below to view model configuration details.\n",
        "#print(json.dumps(config, indent=2))\n"
      ]
    },
    {
      "cell_type": "markdown",
      "metadata": {
        "id": "s9LTh7GO6VIu"
      },
      "source": [
        "## Load and preview the source dataset\n"
      ]
    },
    {
      "cell_type": "code",
      "source": [
        "#Upload your csv datafile\n",
        "from ipywidgets import FileUpload\n",
        "upload = FileUpload()\n",
        "upload"
      ],
      "metadata": {
        "id": "9ev8-5chjJlX"
      },
      "execution_count": null,
      "outputs": []
    },
    {
      "cell_type": "code",
      "source": [
        "with open(\"input.csv\", \"w+b\") as i:\n",
        "    i.write(upload.data[0])"
      ],
      "metadata": {
        "id": "1HIZGi8kkh6e"
      },
      "execution_count": null,
      "outputs": []
    },
    {
      "cell_type": "code",
      "execution_count": null,
      "metadata": {
        "id": "YMg9nX6SczHe"
      },
      "outputs": [],
      "source": [
        "# Load and preview\n",
        "import pandas as pd\n",
        "\n",
        "dataset_path = \"input.csv\"\n",
        "df = pd.read_csv(dataset_path)\n",
        "df.to_csv(\"training_data.csv\", index=False)\n",
        "\n",
        "#uncomment last line here to preview the DataFrame that will be used to train the synthetic model.\n",
        "#df"
      ]
    },
    {
      "cell_type": "markdown",
      "metadata": {
        "id": "WxnH8th-65Dh"
      },
      "source": [
        "## Train the synthetic model\n",
        "\n",
        "In this step, we will task the worker running in the Gretel cloud, or locally, to train a synthetic model on the source dataset.\n"
      ]
    },
    {
      "cell_type": "code",
      "execution_count": null,
      "metadata": {
        "id": "O4-E_F0qczHe"
      },
      "outputs": [],
      "source": [
        "from gretel_client.helpers import poll\n",
        "\n",
        "model = project.create_model_obj(model_config=config, data_source=\"training_data.csv\")\n",
        "model.submit_cloud()\n",
        "\n",
        "poll(model)\n"
      ]
    },
    {
      "cell_type": "code",
      "execution_count": null,
      "metadata": {
        "id": "sPM-gaU6czHf"
      },
      "outputs": [],
      "source": [
        "# View the synthetic data\n",
        "\n",
        "synthetic_df = pd.read_csv(model.get_artifact_link(\"data_preview\"), compression=\"gzip\")\n",
        "\n",
        "synthetic_df\n"
      ]
    },
    {
      "cell_type": "markdown",
      "metadata": {
        "id": "69XYfU9k7fq4"
      },
      "source": [
        "# View the synthetic data quality report\n"
      ]
    },
    {
      "cell_type": "code",
      "execution_count": null,
      "metadata": {
        "id": "zX8qsizqczHg",
        "jupyter": {
          "outputs_hidden": true
        },
        "tags": []
      },
      "outputs": [],
      "source": [
        "# Generate report that shows the statistical performance between the training and synthetic data\n",
        "\n",
        "import IPython\n",
        "from smart_open import open\n",
        "\n",
        "IPython.display.HTML(data=open(model.get_artifact_link(\"report\")).read())\n"
      ]
    },
    {
      "cell_type": "markdown",
      "metadata": {
        "id": "6IkWOnVQ7oo1"
      },
      "source": [
        "# Generate unlimited synthetic data\n",
        "\n",
        "You can now use the trained synthetic model to generate as much synthetic data as you like.\n"
      ]
    },
    {
      "cell_type": "code",
      "execution_count": null,
      "metadata": {
        "id": "X0bI0OpI6W3Y"
      },
      "outputs": [],
      "source": [
        "# Generate more records from the model\n",
        "\n",
        "record_handler = model.create_record_handler_obj(\n",
        "    params={\"num_records\": 100, \"max_invalid\": 500}\n",
        ")\n",
        "record_handler.submit_cloud()\n",
        "poll(record_handler)\n"
      ]
    },
    {
      "cell_type": "code",
      "execution_count": null,
      "metadata": {
        "id": "uUIErjQ7CzGy"
      },
      "outputs": [],
      "source": [
        "# Write synthetic data to local file\n",
        "\n",
        "synthetic_df = pd.read_csv(record_handler.get_artifact_link(\"data\"), compression=\"gzip\")\n",
        "\n",
        "synthetic_df\n",
        "\n",
        "synthetic_df.to_csv('synth_data.csv')\n",
        "\n"
      ]
    }
  ],
  "metadata": {
    "colab": {
      "collapsed_sections": [],
      "name": "SynthData_Gretal_Template",
      "provenance": []
    },
    "kernelspec": {
      "display_name": "Python 3 (ipykernel)",
      "language": "python",
      "name": "python3"
    },
    "language_info": {
      "codemirror_mode": {
        "name": "ipython",
        "version": 3
      },
      "file_extension": ".py",
      "mimetype": "text/x-python",
      "name": "python",
      "nbconvert_exporter": "python",
      "pygments_lexer": "ipython3",
      "version": "3.9.10"
    }
  },
  "nbformat": 4,
  "nbformat_minor": 0
}